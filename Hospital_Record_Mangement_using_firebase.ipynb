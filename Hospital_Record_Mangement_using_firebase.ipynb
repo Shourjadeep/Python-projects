{
  "nbformat": 4,
  "nbformat_minor": 0,
  "metadata": {
    "colab": {
      "name": "Hospital Record Mangement using firebase.ipynb",
      "provenance": [],
      "collapsed_sections": []
    },
    "kernelspec": {
      "name": "python3",
      "display_name": "Python 3"
    }
  },
  "cells": [
    {
      "cell_type": "code",
      "metadata": {
        "id": "Bk7f5EnArYgD"
      },
      "source": [
        "#Step-1 \r\n",
        "\r\n",
        "import firebase_admin\r\n",
        "from firebase_admin import credentials,auth,firestore"
      ],
      "execution_count": null,
      "outputs": []
    },
    {
      "cell_type": "code",
      "metadata": {
        "colab": {
          "base_uri": "https://localhost:8080/"
        },
        "id": "2lzy5g7QswKu",
        "outputId": "95b29549-5c42-4da1-9d54-a156ee032b0f"
      },
      "source": [
        "cred = credentials.Certificate(\"/content/hospital-record-manageme-92860-firebase-adminsdk-kk1cn-17c5b1d238.json\")\r\n",
        "firebase_admin.initialize_app(cred)"
      ],
      "execution_count": null,
      "outputs": [
        {
          "output_type": "execute_result",
          "data": {
            "text/plain": [
              "<firebase_admin.App at 0x7fbac5afb150>"
            ]
          },
          "metadata": {
            "tags": []
          },
          "execution_count": 3
        }
      ]
    },
    {
      "cell_type": "code",
      "metadata": {
        "id": "1QhZVFJrtU0Z"
      },
      "source": [
        "store=firestore.client()"
      ],
      "execution_count": null,
      "outputs": []
    },
    {
      "cell_type": "code",
      "metadata": {
        "id": "UHVblAQqtYN6"
      },
      "source": [
        "#step-2\r\n",
        "# take the patient entry -\r\n",
        "\r\n",
        "patient={}\r\n",
        "\r\n",
        "def takentry():\r\n",
        "  patient['name']=input(\"Enter the name of the patient:\")\r\n",
        "  patient['age']=int(input(\"Enter the age:\"))\r\n",
        "  patient['gender']=input(\"Enter the gender:\")\r\n",
        "  patient['reason']=input(\"Enter the reason of the patient:\")\r\n",
        "  patient['address']=input(\"Enter th address of the patient:\")\r\n",
        "  patient['number']=input(\"Enter the mobile number:\")\r\n",
        "  return patient\r\n"
      ],
      "execution_count": null,
      "outputs": []
    },
    {
      "cell_type": "code",
      "metadata": {
        "id": "0VylShlpvjcg"
      },
      "source": [
        "def storeDataToFirebase():\r\n",
        "  pt=takentry()\r\n",
        "  store.collection(\"PatientData\").add(pt)"
      ],
      "execution_count": null,
      "outputs": []
    },
    {
      "cell_type": "code",
      "metadata": {
        "colab": {
          "base_uri": "https://localhost:8080/"
        },
        "id": "FGsp_cvewBYz",
        "outputId": "f4c00cf7-aafd-4945-b32b-8e674aafcee3"
      },
      "source": [
        "storeDataToFirebase()"
      ],
      "execution_count": null,
      "outputs": [
        {
          "output_type": "stream",
          "text": [
            "Enter the name of the patient:Shourjadeeep\n",
            "Enter the age:19\n",
            "Enter the gender:Male\n",
            "Enter the reason of the patient:Headache\n",
            "Enter th address of the patient:Mumbai\n",
            "Enter the mobile number:8169935304\n"
          ],
          "name": "stdout"
        }
      ]
    },
    {
      "cell_type": "code",
      "metadata": {
        "id": "2zikJPvqwikR"
      },
      "source": [
        ""
      ],
      "execution_count": null,
      "outputs": []
    }
  ]
}